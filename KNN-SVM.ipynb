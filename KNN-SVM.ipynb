{
 "cells": [
  {
   "cell_type": "code",
   "execution_count": 1,
   "metadata": {},
   "outputs": [],
   "source": [
    "import librosa\n",
    "import pandas as pd\n",
    "import numpy as np\n",
    "import matplotlib.pyplot as plt\n",
    "%matplotlib inline\n",
    "import os\n",
    "import sklearn\n",
    "import pathlib\n",
    "import csv\n",
    "from sklearn.neighbors import KNeighborsClassifier\n",
    "from sklearn.svm import SVC\n",
    "import itertools\n",
    "# Preprocessing\n",
    "from sklearn.model_selection import train_test_split\n",
    "from sklearn.preprocessing import LabelEncoder, StandardScaler\n"
   ]
  },
  {
   "cell_type": "code",
   "execution_count": 2,
   "metadata": {},
   "outputs": [],
   "source": [
    "DATASET_PATH = \"./genres/genres\"\n",
    "\n",
    "# Sampling rate (Hz)\n",
    "SAMPLE_RATE = 22050\n",
    "\n",
    "# Frame size (Samples)\n",
    "FRAME_SIZE = 2048\n",
    "\n",
    "# Hop Size (Samples)\n",
    "HOP_SIZE = 512"
   ]
  },
  {
   "cell_type": "code",
   "execution_count": 3,
   "metadata": {},
   "outputs": [],
   "source": [
    "header = ['meanZCR', 'stdZCR', 'meanSpecCentroid', 'stdSpecCentroid', 'meanSpecContrast', 'stdSpecContrast',\n",
    "                     'meanSpecBandwidth', 'stdSpecBandwidth', 'meanSpecRollof', 'stdSpecRollof',\n",
    "                     'meanMFCC_1', 'stdMFCC_1', 'meanMFCC_2', 'stdMFCC_2', 'meanMFCC_3', 'stdMFCC_3',\n",
    "                     'meanMFCC_4', 'stdMFCC_4', 'meanMFCC_5', 'stdMFCC_5', 'meanMFCC_6', 'stdMFCC_6',\n",
    "                     'meanMFCC_7', 'stdMFCC_7', 'meanMFCC_8', 'stdMFCC_8', 'meanMFCC_9', 'stdMFCC_9',\n",
    "                     'meanMFCC_10', 'stdMFCC_10', 'meanMFCC_11', 'stdMFCC_11', 'meanMFCC_12', 'stdMFCC_12',\n",
    "                     'meanMFCC_13', 'stdMFCC_13','label'\n",
    "                     ]\n"
   ]
  },
  {
   "cell_type": "code",
   "execution_count": 7,
   "metadata": {},
   "outputs": [],
   "source": [
    "def extract_features(signal, sample_rate, frame_size, hop_size):\n",
    "    zero_crossing_rate = librosa.feature.zero_crossing_rate(y=signal, frame_length=frame_size, hop_length=hop_size)\n",
    "    spectral_centroid = librosa.feature.spectral_centroid(y=signal, sr=sample_rate, n_fft=frame_size,\n",
    "                                                          hop_length=hop_size)\n",
    "    spectral_contrast = librosa.feature.spectral_contrast(y=signal, sr=sample_rate, n_fft=frame_size,\n",
    "                                                          hop_length=hop_size)\n",
    "    spectral_bandwidth = librosa.feature.spectral_bandwidth(y=signal, sr=sample_rate, n_fft=frame_size,\n",
    "                                                            hop_length=hop_size)\n",
    "    spectral_rolloff = librosa.feature.spectral_rolloff(y=signal, sr=sample_rate, n_fft=frame_size, hop_length=hop_size)\n",
    "    mfccs = librosa.feature.mfcc(y=signal, sr=sample_rate, n_fft=frame_size, hop_length=hop_size)\n",
    "\n",
    "    return [\n",
    "\n",
    "        np.mean(zero_crossing_rate),\n",
    "        np.std(zero_crossing_rate),\n",
    "        np.mean(spectral_centroid),\n",
    "        np.std(spectral_centroid),\n",
    "        np.mean(spectral_contrast),\n",
    "        np.std(spectral_contrast),\n",
    "        np.mean(spectral_bandwidth),\n",
    "        np.std(spectral_bandwidth),\n",
    "        np.mean(spectral_rolloff),\n",
    "        np.std(spectral_rolloff),\n",
    "\n",
    "        np.mean(mfccs[1, :]),\n",
    "        np.std(mfccs[1, :]),\n",
    "        np.mean(mfccs[2, :]),\n",
    "        np.std(mfccs[2, :]),\n",
    "        np.mean(mfccs[3, :]),\n",
    "        np.std(mfccs[3, :]),\n",
    "        np.mean(mfccs[4, :]),\n",
    "        np.std(mfccs[4, :]),\n",
    "        np.mean(mfccs[5, :]),\n",
    "        np.std(mfccs[5, :]),\n",
    "        np.mean(mfccs[6, :]),\n",
    "        np.std(mfccs[6, :]),\n",
    "        np.mean(mfccs[7, :]),\n",
    "        np.std(mfccs[7, :]),\n",
    "        np.mean(mfccs[8, :]),\n",
    "        np.std(mfccs[8, :]),\n",
    "        np.mean(mfccs[9, :]),\n",
    "        np.std(mfccs[9, :]),\n",
    "        np.mean(mfccs[10, :]),\n",
    "        np.std(mfccs[10, :]),\n",
    "        np.mean(mfccs[11, :]),\n",
    "        np.std(mfccs[11, :]),\n",
    "        np.mean(mfccs[12, :]),\n",
    "        np.std(mfccs[12, :]),\n",
    "        np.mean(mfccs[13, :]),\n",
    "        np.std(mfccs[13, :]),\n",
    "    ]"
   ]
  },
  {
   "cell_type": "code",
   "execution_count": 9,
   "metadata": {},
   "outputs": [
    {
     "name": "stdout",
     "output_type": "stream",
     "text": [
      "\n",
      "Processing: blues\n",
      "\n",
      "Processing: classical\n",
      "\n",
      "Processing: country\n",
      "\n",
      "Processing: disco\n",
      "\n",
      "Processing: hiphop\n",
      "\n",
      "Processing: jazz\n",
      "\n",
      "Processing: metal\n",
      "\n",
      "Processing: pop\n",
      "\n",
      "Processing: reggae\n",
      "\n",
      "Processing: rock\n"
     ]
    }
   ],
   "source": [
    "dataset_path = DATASET_PATH\n",
    "file = open('data2.csv', 'w', newline='')\n",
    "with file:\n",
    "    writer = csv.writer(file)\n",
    "    writer.writerow(header)\n",
    "for (dirpath, dirnames, filenames) in os.walk(dataset_path):\n",
    "    # ensurer on parcours un dossier du genre\n",
    "    if dirpath is not dataset_path:\n",
    "            # enregistrer l'étiquette de genre (c'est-à-dire le nom du sous-dossier) dans le mapping\n",
    "            semantic_label = dirpath.split(\"\\\\\")[-1]\n",
    "            #data[\"mapping\"].append(semantic_label)\n",
    "            print(\"\\nProcessing: {}\".format(semantic_label))\n",
    "\n",
    "            # traiter tous les fichier dans genre sub-dir\n",
    "            for f in filenames:\n",
    "\n",
    "                # load audio file\n",
    "                file_path = os.path.join(dirpath, f)\n",
    "                signal, sample_rate = librosa.load(file_path, sr=SAMPLE_RATE)\n",
    "                row = extract_features(signal, sample_rate, FRAME_SIZE ,HOP_SIZE)\n",
    "                row.append(semantic_label)\n",
    "                file = open('data2.csv', 'a', newline='')\n",
    "                with file:\n",
    "                    writer = csv.writer(file)\n",
    "                    writer.writerow(row)\n",
    "        "
   ]
  },
  {
   "cell_type": "code",
   "execution_count": 33,
   "metadata": {},
   "outputs": [
    {
     "data": {
      "text/html": [
       "<div>\n",
       "<style scoped>\n",
       "    .dataframe tbody tr th:only-of-type {\n",
       "        vertical-align: middle;\n",
       "    }\n",
       "\n",
       "    .dataframe tbody tr th {\n",
       "        vertical-align: top;\n",
       "    }\n",
       "\n",
       "    .dataframe thead th {\n",
       "        text-align: right;\n",
       "    }\n",
       "</style>\n",
       "<table border=\"1\" class=\"dataframe\">\n",
       "  <thead>\n",
       "    <tr style=\"text-align: right;\">\n",
       "      <th></th>\n",
       "      <th>meanZCR</th>\n",
       "      <th>stdZCR</th>\n",
       "      <th>meanSpecCentroid</th>\n",
       "      <th>stdSpecCentroid</th>\n",
       "      <th>meanSpecContrast</th>\n",
       "      <th>stdSpecContrast</th>\n",
       "      <th>meanSpecBandwidth</th>\n",
       "      <th>stdSpecBandwidth</th>\n",
       "      <th>meanSpecRollof</th>\n",
       "      <th>stdSpecRollof</th>\n",
       "      <th>...</th>\n",
       "      <th>stdMFCC_9</th>\n",
       "      <th>meanMFCC_10</th>\n",
       "      <th>stdMFCC_10</th>\n",
       "      <th>meanMFCC_11</th>\n",
       "      <th>stdMFCC_11</th>\n",
       "      <th>meanMFCC_12</th>\n",
       "      <th>stdMFCC_12</th>\n",
       "      <th>meanMFCC_13</th>\n",
       "      <th>stdMFCC_13</th>\n",
       "      <th>label</th>\n",
       "    </tr>\n",
       "  </thead>\n",
       "  <tbody>\n",
       "    <tr>\n",
       "      <th>0</th>\n",
       "      <td>0.083045</td>\n",
       "      <td>0.027694</td>\n",
       "      <td>1784.165850</td>\n",
       "      <td>360.241675</td>\n",
       "      <td>20.526699</td>\n",
       "      <td>8.760242</td>\n",
       "      <td>2002.449060</td>\n",
       "      <td>293.057608</td>\n",
       "      <td>3805.839606</td>\n",
       "      <td>949.476395</td>\n",
       "      <td>...</td>\n",
       "      <td>7.961552</td>\n",
       "      <td>-8.326573</td>\n",
       "      <td>7.859586</td>\n",
       "      <td>8.803792</td>\n",
       "      <td>7.158500</td>\n",
       "      <td>-3.672300</td>\n",
       "      <td>6.420079</td>\n",
       "      <td>5.747995</td>\n",
       "      <td>6.368240</td>\n",
       "      <td>blues</td>\n",
       "    </tr>\n",
       "    <tr>\n",
       "      <th>1</th>\n",
       "      <td>0.056040</td>\n",
       "      <td>0.038046</td>\n",
       "      <td>1530.176679</td>\n",
       "      <td>613.066125</td>\n",
       "      <td>20.676128</td>\n",
       "      <td>8.237203</td>\n",
       "      <td>2039.036516</td>\n",
       "      <td>462.432433</td>\n",
       "      <td>3550.522098</td>\n",
       "      <td>1725.657379</td>\n",
       "      <td>...</td>\n",
       "      <td>10.215605</td>\n",
       "      <td>-5.555639</td>\n",
       "      <td>10.255420</td>\n",
       "      <td>5.376327</td>\n",
       "      <td>9.808018</td>\n",
       "      <td>-2.231760</td>\n",
       "      <td>8.056941</td>\n",
       "      <td>4.220140</td>\n",
       "      <td>8.552925</td>\n",
       "      <td>blues</td>\n",
       "    </tr>\n",
       "    <tr>\n",
       "      <th>2</th>\n",
       "      <td>0.076291</td>\n",
       "      <td>0.031731</td>\n",
       "      <td>1552.811865</td>\n",
       "      <td>395.559911</td>\n",
       "      <td>22.197517</td>\n",
       "      <td>8.725292</td>\n",
       "      <td>1747.702312</td>\n",
       "      <td>276.141616</td>\n",
       "      <td>3042.260232</td>\n",
       "      <td>885.457204</td>\n",
       "      <td>...</td>\n",
       "      <td>8.240684</td>\n",
       "      <td>-13.133803</td>\n",
       "      <td>7.601409</td>\n",
       "      <td>5.791199</td>\n",
       "      <td>8.029957</td>\n",
       "      <td>-8.907628</td>\n",
       "      <td>7.770788</td>\n",
       "      <td>-1.077000</td>\n",
       "      <td>7.596785</td>\n",
       "      <td>blues</td>\n",
       "    </tr>\n",
       "    <tr>\n",
       "      <th>3</th>\n",
       "      <td>0.033309</td>\n",
       "      <td>0.020561</td>\n",
       "      <td>1070.106615</td>\n",
       "      <td>429.366909</td>\n",
       "      <td>21.426268</td>\n",
       "      <td>7.961446</td>\n",
       "      <td>1596.412872</td>\n",
       "      <td>407.972419</td>\n",
       "      <td>2184.745799</td>\n",
       "      <td>1221.963322</td>\n",
       "      <td>...</td>\n",
       "      <td>8.444766</td>\n",
       "      <td>-3.200653</td>\n",
       "      <td>10.499366</td>\n",
       "      <td>6.079319</td>\n",
       "      <td>6.946366</td>\n",
       "      <td>-2.480174</td>\n",
       "      <td>7.536538</td>\n",
       "      <td>-1.079305</td>\n",
       "      <td>7.892395</td>\n",
       "      <td>blues</td>\n",
       "    </tr>\n",
       "    <tr>\n",
       "      <th>4</th>\n",
       "      <td>0.101461</td>\n",
       "      <td>0.044205</td>\n",
       "      <td>1835.004266</td>\n",
       "      <td>586.003361</td>\n",
       "      <td>21.466338</td>\n",
       "      <td>7.936384</td>\n",
       "      <td>1748.172116</td>\n",
       "      <td>297.397392</td>\n",
       "      <td>3579.757627</td>\n",
       "      <td>1254.184130</td>\n",
       "      <td>...</td>\n",
       "      <td>9.983767</td>\n",
       "      <td>-13.088418</td>\n",
       "      <td>8.958464</td>\n",
       "      <td>-2.813867</td>\n",
       "      <td>9.296807</td>\n",
       "      <td>-6.933384</td>\n",
       "      <td>9.463374</td>\n",
       "      <td>-7.552725</td>\n",
       "      <td>8.422787</td>\n",
       "      <td>blues</td>\n",
       "    </tr>\n",
       "  </tbody>\n",
       "</table>\n",
       "<p>5 rows × 37 columns</p>\n",
       "</div>"
      ],
      "text/plain": [
       "    meanZCR    stdZCR  meanSpecCentroid  stdSpecCentroid  meanSpecContrast  \\\n",
       "0  0.083045  0.027694       1784.165850       360.241675         20.526699   \n",
       "1  0.056040  0.038046       1530.176679       613.066125         20.676128   \n",
       "2  0.076291  0.031731       1552.811865       395.559911         22.197517   \n",
       "3  0.033309  0.020561       1070.106615       429.366909         21.426268   \n",
       "4  0.101461  0.044205       1835.004266       586.003361         21.466338   \n",
       "\n",
       "   stdSpecContrast  meanSpecBandwidth  stdSpecBandwidth  meanSpecRollof  \\\n",
       "0         8.760242        2002.449060        293.057608     3805.839606   \n",
       "1         8.237203        2039.036516        462.432433     3550.522098   \n",
       "2         8.725292        1747.702312        276.141616     3042.260232   \n",
       "3         7.961446        1596.412872        407.972419     2184.745799   \n",
       "4         7.936384        1748.172116        297.397392     3579.757627   \n",
       "\n",
       "   stdSpecRollof  ...  stdMFCC_9  meanMFCC_10  stdMFCC_10  meanMFCC_11  \\\n",
       "0     949.476395  ...   7.961552    -8.326573    7.859586     8.803792   \n",
       "1    1725.657379  ...  10.215605    -5.555639   10.255420     5.376327   \n",
       "2     885.457204  ...   8.240684   -13.133803    7.601409     5.791199   \n",
       "3    1221.963322  ...   8.444766    -3.200653   10.499366     6.079319   \n",
       "4    1254.184130  ...   9.983767   -13.088418    8.958464    -2.813867   \n",
       "\n",
       "   stdMFCC_11  meanMFCC_12  stdMFCC_12  meanMFCC_13  stdMFCC_13  label  \n",
       "0    7.158500    -3.672300    6.420079     5.747995    6.368240  blues  \n",
       "1    9.808018    -2.231760    8.056941     4.220140    8.552925  blues  \n",
       "2    8.029957    -8.907628    7.770788    -1.077000    7.596785  blues  \n",
       "3    6.946366    -2.480174    7.536538    -1.079305    7.892395  blues  \n",
       "4    9.296807    -6.933384    9.463374    -7.552725    8.422787  blues  \n",
       "\n",
       "[5 rows x 37 columns]"
      ]
     },
     "execution_count": 33,
     "metadata": {},
     "output_type": "execute_result"
    }
   ],
   "source": [
    "data = pd.read_csv('data2.csv')\n",
    "data.head()"
   ]
  },
  {
   "cell_type": "code",
   "execution_count": 11,
   "metadata": {},
   "outputs": [
    {
     "data": {
      "text/plain": [
       "(1000, 28)"
      ]
     },
     "execution_count": 11,
     "metadata": {},
     "output_type": "execute_result"
    }
   ],
   "source": [
    "data.shape"
   ]
  },
  {
   "cell_type": "code",
   "execution_count": 12,
   "metadata": {},
   "outputs": [],
   "source": [
    "# Dropping unneccesary columns\n",
    "data = data.drop(['filename'],axis=1)"
   ]
  },
  {
   "cell_type": "code",
   "execution_count": 13,
   "metadata": {},
   "outputs": [
    {
     "name": "stdout",
     "output_type": "stream",
     "text": [
      "[[ 3.50088120e-01  1.30227923e-01  1.78416585e+03 ... -4.08978969e-01\n",
      "  -2.30352259e+00  1.22129011e+00]\n",
      " [ 3.40913594e-01  9.59478095e-02  1.53017668e+03 ...  2.95073062e-01\n",
      "  -2.83518225e-01  5.31215847e-01]\n",
      " [ 3.63637209e-01  1.75570413e-01  1.55281186e+03 ... -1.81640685e+00\n",
      "  -3.43972039e+00 -2.23125887e+00]\n",
      " ...\n",
      " [ 4.32142019e-01  8.16509798e-02  2.07752660e+03 ...  3.44097805e+00\n",
      "  -1.25880699e+01 -2.10633683e+00]\n",
      " [ 3.62484574e-01  8.38599354e-02  1.39869934e+03 ...  1.55620730e+00\n",
      "  -5.04189682e+00 -3.59064436e+00]\n",
      " [ 3.58401328e-01  5.44540286e-02  1.60979508e+03 ...  2.83459909e-02\n",
      "  -2.02578235e+00  1.15523851e+00]]\n"
     ]
    }
   ],
   "source": [
    "genre_list = data.iloc[:, -1]\n",
    "encoder = LabelEncoder()\n",
    "y = encoder.fit_transform(genre_list)\n",
    "\n",
    "X = data.iloc[:, :-1].to_numpy()\n",
    "print(X)"
   ]
  },
  {
   "cell_type": "code",
   "execution_count": 14,
   "metadata": {
    "scrolled": true
   },
   "outputs": [],
   "source": [
    "sc = StandardScaler()\n",
    "X = sc.fit_transform(X)"
   ]
  },
  {
   "cell_type": "code",
   "execution_count": 56,
   "metadata": {},
   "outputs": [],
   "source": [
    "X_train, X_test, y_train, y_test = train_test_split(X, y, test_size=0.2 , random_state=0,stratify=y)"
   ]
  },
  {
   "cell_type": "code",
   "execution_count": 57,
   "metadata": {},
   "outputs": [
    {
     "data": {
      "text/plain": [
       "800"
      ]
     },
     "execution_count": 57,
     "metadata": {},
     "output_type": "execute_result"
    }
   ],
   "source": [
    "len(y_train)"
   ]
  },
  {
   "cell_type": "code",
   "execution_count": 58,
   "metadata": {},
   "outputs": [
    {
     "data": {
      "text/plain": [
       "200"
      ]
     },
     "execution_count": 58,
     "metadata": {},
     "output_type": "execute_result"
    }
   ],
   "source": [
    "len(y_test)"
   ]
  },
  {
   "cell_type": "code",
   "execution_count": 59,
   "metadata": {},
   "outputs": [],
   "source": [
    "GENRES = [\"blues\",\n",
    "        \"classical\",\n",
    "        \"country\",\n",
    "        \"disco\",\n",
    "        \"hiphop\",\n",
    "        \"jazz\",\n",
    "        \"metal\",\n",
    "        \"pop\",\n",
    "        \"reggae\",\n",
    "        \"rock\"]"
   ]
  },
  {
   "cell_type": "code",
   "execution_count": 60,
   "metadata": {},
   "outputs": [],
   "source": [
    "def confusion_matrix(cm, classes,\n",
    "                          title='Confusion matrix',\n",
    "                          cmap=plt.cm.Blues):\n",
    "   \n",
    "    plt.imshow(cm, interpolation='nearest', cmap=cmap)\n",
    "    plt.title(title)\n",
    "    plt.colorbar()\n",
    "    tick_marks = np.arange(len(classes))\n",
    "    plt.xticks(tick_marks, classes, rotation=45)\n",
    "    plt.yticks(tick_marks, classes)\n",
    "    \n",
    "    thresh = cm.max() / 2.\n",
    "    for i, j in itertools.product(range(cm.shape[0]), range(cm.shape[1])):\n",
    "        plt.text(j, i, cm[i, j],\n",
    "                 horizontalalignment=\"center\",\n",
    "                 color=\"white\" if cm[i, j] > thresh else \"black\")\n",
    "\n",
    "    plt.tight_layout()\n",
    "    plt.ylabel('True label')\n",
    "    plt.xlabel('Predicted label')\n",
    "\n",
    "def plot_cnf(model,dataset_x,dataset_y,GENRES):\n",
    "    true_y=dataset_y\n",
    "    true_x=dataset_x\n",
    "    pred=model.predict(true_x)\n",
    "\n",
    "    print(\"---------------PERFORMANCE ANALYSIS FOR THE MODEL----------------\\n\")\n",
    "\n",
    "    print(\"Real Test dataset labels: \\n{}\\n\".format(true_y))\n",
    "    print(\"Predicted Test dataset labels: \\n{}\".format(pred))\n",
    "\n",
    "    cnf_matrix=sklearn.metrics.confusion_matrix(true_y,pred)\n",
    "    cnf_matrix_norm = np.around(cnf_matrix.astype('float') / cnf_matrix.sum(axis=1)[:, np.newaxis], decimals=2)\n",
    "    plt.figure()\n",
    "    a=confusion_matrix(cnf_matrix_norm,classes=GENRES,title='Confusion matrix')"
   ]
  },
  {
   "cell_type": "code",
   "execution_count": 61,
   "metadata": {
    "scrolled": false
   },
   "outputs": [
    {
     "name": "stdout",
     "output_type": "stream",
     "text": [
      "Max Accuracy is 0.670 on test dataset with 4 neighbors.\n",
      "\n",
      "Training Score: 0.780\n",
      "Test score: 0.670\n",
      "---------------PERFORMANCE ANALYSIS FOR THE MODEL----------------\n",
      "\n",
      "Real Test dataset labels: \n",
      "[2 7 2 9 7 1 4 5 3 6 3 4 6 9 8 5 2 6 6 8 3 2 9 8 2 0 4 7 7 9 6 6 5 9 2 8 9\n",
      " 9 9 0 1 8 3 4 6 0 9 6 7 0 0 2 1 0 0 4 6 0 7 1 1 2 2 0 5 7 5 4 1 8 5 7 1 3\n",
      " 3 3 0 1 8 6 2 9 0 4 6 4 0 1 8 3 7 6 9 6 8 3 7 8 2 3 5 3 5 2 1 5 9 2 5 3 4\n",
      " 1 2 9 9 5 8 1 9 3 4 4 7 7 3 9 7 8 6 7 2 8 5 5 1 2 1 7 2 4 4 7 0 4 0 7 9 3\n",
      " 9 5 0 3 7 3 1 6 0 9 4 1 3 6 8 2 1 5 1 1 6 2 0 4 0 4 5 8 4 3 0 9 5 5 6 8 0\n",
      " 4 3 7 1 8 6 8 5 6 7 8 2 8 4 5]\n",
      "\n",
      "Predicted Test dataset labels: \n",
      "[2 7 2 9 7 1 4 8 3 6 3 3 6 2 8 5 2 3 4 8 3 2 9 3 2 6 2 3 7 9 9 6 7 9 2 0 9\n",
      " 0 9 0 1 4 3 4 6 0 9 6 7 0 0 2 1 0 0 4 6 0 8 5 1 2 2 0 5 7 5 4 1 8 1 7 1 0\n",
      " 3 3 2 1 8 0 4 9 0 4 6 2 0 1 8 6 8 3 9 6 4 9 7 4 1 3 5 9 5 2 1 1 5 2 5 3 3\n",
      " 1 5 6 9 5 7 1 9 0 4 4 7 7 0 0 7 2 9 7 3 3 9 5 1 2 1 7 5 0 3 7 0 2 0 7 9 3\n",
      " 9 1 0 3 9 3 1 6 2 9 0 1 2 6 8 2 1 1 1 1 6 2 0 4 0 3 5 8 3 2 2 2 5 5 6 8 2\n",
      " 4 9 7 1 8 4 7 9 6 7 8 2 4 4 0]\n"
     ]
    },
    {
     "data": {
      "image/png": "[encoded data removed]",
      "text/plain": [
       "<Figure size 432x288 with 1 Axes>"
      ]
     },
     "metadata": {
      "needs_background": "light"
     },
     "output_type": "display_data"
    },
    {
     "data": {
      "image/png": "[encoded data removed]",
      "text/plain": [
       "<Figure size 432x288 with 2 Axes>"
      ]
     },
     "metadata": {
      "needs_background": "light"
     },
     "output_type": "display_data"
    }
   ],
   "source": [
    "\n",
    "results_knn=[]\n",
    "for i in range(1,11):\n",
    "    knn=KNeighborsClassifier(n_neighbors=i)\n",
    "    knn.fit(X_train,y_train)\n",
    "    results_knn.append(knn.score(X_test,y_test))\n",
    "    \n",
    "max_accuracy_knn=max(results_knn)\n",
    "best_k=1+results_knn.index(max(results_knn))\n",
    "print(\"Max Accuracy is {:.3f} on test dataset with {} neighbors.\\n\".format(max_accuracy_knn,best_k))\n",
    "\n",
    "plt.plot(np.arange(1,11),results_knn)\n",
    "plt.xlabel(\"n Neighbors\")\n",
    "plt.ylabel(\"Accuracy\")\n",
    "\n",
    "\n",
    "knn=KNeighborsClassifier(n_neighbors=best_k)\n",
    "knn.fit(X_train,y_train)\n",
    "print(\"Training Score: {:.3f}\".format(knn.score(X_train,y_train)))\n",
    "print(\"Test score: {:.3f}\".format(knn.score(X_test,y_test)))  \n",
    "\n",
    "plot_cnf(knn,X_test,y_test,GENRES)"
   ]
  },
  {
   "cell_type": "code",
   "execution_count": 62,
   "metadata": {
    "scrolled": true
   },
   "outputs": [
    {
     "name": "stdout",
     "output_type": "stream",
     "text": [
      "Training Score: 0.999\n",
      "Test score: 0.700\n",
      "---------------PERFORMANCE ANALYSIS FOR THE MODEL----------------\n",
      "\n",
      "Real Test dataset labels: \n",
      "[2 7 2 9 7 1 4 5 3 6 3 4 6 9 8 5 2 6 6 8 3 2 9 8 2 0 4 7 7 9 6 6 5 9 2 8 9\n",
      " 9 9 0 1 8 3 4 6 0 9 6 7 0 0 2 1 0 0 4 6 0 7 1 1 2 2 0 5 7 5 4 1 8 5 7 1 3\n",
      " 3 3 0 1 8 6 2 9 0 4 6 4 0 1 8 3 7 6 9 6 8 3 7 8 2 3 5 3 5 2 1 5 9 2 5 3 4\n",
      " 1 2 9 9 5 8 1 9 3 4 4 7 7 3 9 7 8 6 7 2 8 5 5 1 2 1 7 2 4 4 7 0 4 0 7 9 3\n",
      " 9 5 0 3 7 3 1 6 0 9 4 1 3 6 8 2 1 5 1 1 6 2 0 4 0 4 5 8 4 3 0 9 5 5 6 8 0\n",
      " 4 3 7 1 8 6 8 5 6 7 8 2 8 4 5]\n",
      "\n",
      "Predicted Test dataset labels: \n",
      "[2 7 2 2 7 1 4 5 8 6 3 4 6 9 8 5 3 3 5 8 3 2 9 3 2 6 4 3 7 9 9 6 8 9 2 5 9\n",
      " 0 9 0 1 8 3 3 6 0 3 6 7 0 0 2 1 0 0 4 6 0 3 1 1 2 2 0 1 7 5 4 1 8 1 7 1 3\n",
      " 3 3 2 1 8 6 4 9 0 4 6 9 2 1 8 6 8 0 0 6 8 3 7 4 2 3 5 9 5 2 1 5 2 2 5 3 3\n",
      " 1 5 9 3 5 4 5 9 3 2 4 7 7 9 0 7 2 2 8 2 3 5 1 1 2 1 7 0 4 3 7 0 2 3 7 5 3\n",
      " 9 5 0 4 2 2 1 6 2 9 4 1 3 6 8 2 1 5 1 5 6 2 0 4 0 3 5 8 4 2 2 0 5 5 6 8 0\n",
      " 4 3 7 1 8 4 7 9 6 7 8 2 4 4 0]\n"
     ]
    },
    {
     "data": {
      "image/png": "[encoded data removed]",
      "text/plain": [
       "<Figure size 432x288 with 2 Axes>"
      ]
     },
     "metadata": {
      "needs_background": "light"
     },
     "output_type": "display_data"
    }
   ],
   "source": [
    "svm=SVC(C=100)\n",
    "svm.fit(X_train,y_train)\n",
    "print(\"Training Score: {:.3f}\".format(svm.score(X_train,y_train)))\n",
    "print(\"Test score: {:.3f}\".format(svm.score(X_test,y_test)))\n",
    "plot_cnf(svm,X_test,y_test,GENRES)"
   ]
  },
  {
   "cell_type": "code",
   "execution_count": null,
   "metadata": {},
   "outputs": [],
   "source": []
  },
  {
   "cell_type": "code",
   "execution_count": null,
   "metadata": {},
   "outputs": [],
   "source": []
  },
  {
   "cell_type": "code",
   "execution_count": null,
   "metadata": {},
   "outputs": [],
   "source": []
  }
 ],
 "metadata": {
  "kernelspec": {
   "display_name": "Python 3",
   "language": "python",
   "name": "python3"
  },
  "language_info": {
   "codemirror_mode": {
    "name": "ipython",
    "version": 3
   },
   "file_extension": ".py",
   "mimetype": "text/x-python",
   "name": "python",
   "nbconvert_exporter": "python",
   "pygments_lexer": "ipython3",
   "version": "3.7.6"
  }
 },
 "nbformat": 4,
 "nbformat_minor": 4
}
